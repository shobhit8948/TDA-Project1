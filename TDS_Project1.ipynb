{
  "nbformat": 4,
  "nbformat_minor": 0,
  "metadata": {
    "colab": {
      "provenance": []
    },
    "kernelspec": {
      "name": "python3",
      "display_name": "Python 3"
    },
    "language_info": {
      "name": "python"
    }
  },
  "cells": [
    {
      "cell_type": "code",
      "execution_count": 2,
      "metadata": {
        "id": "jFC6TdeRXrU6"
      },
      "outputs": [],
      "source": [
        "import pandas as pd\n",
        "\n",
        "# Load the data\n",
        "users_df = pd.read_csv(\"/content/drive/MyDrive/TDS project1/users.csv\")\n",
        "repos_df = pd.read_csv(\"/content/drive/MyDrive/TDS project1/repositories.csv\")\n"
      ]
    },
    {
      "cell_type": "code",
      "source": [
        "# Q-1\n",
        "df = pd.read_csv(\"/content/drive/MyDrive/TDS project1/users.csv\")\n",
        "top_users = df.sort_values(by=\"followers\", ascending=False).head(5)\n",
        "top_users_logins = \", \".join(top_users[\"login\"])\n",
        "\n",
        "print(\"Top 5 users by followers:\", top_users_logins)\n"
      ],
      "metadata": {
        "colab": {
          "base_uri": "https://localhost:8080/"
        },
        "id": "swvAz8yxYKOo",
        "outputId": "d48b6177-9787-4635-caf1-72ffd617e236"
      },
      "execution_count": 3,
      "outputs": [
        {
          "output_type": "stream",
          "name": "stdout",
          "text": [
            "Top 5 users by followers: tarsius, aalmiray, marcoroth, klmr, MrNeRF\n"
          ]
        }
      ]
    },
    {
      "cell_type": "code",
      "source": [
        "# Q-2\n",
        "earliest_users = users_df.sort_values(by=\"created_at\").head(5)\n",
        "earliest_users_list = \", \".join(earliest_users[\"login\"].tolist())\n",
        "print(\"5 earliest registered users:\", earliest_users_list)\n"
      ],
      "metadata": {
        "colab": {
          "base_uri": "https://localhost:8080/"
        },
        "id": "pwlCK4qSaw8_",
        "outputId": "5a59e7be-214e-4bce-de4c-87302ad650d0"
      },
      "execution_count": 4,
      "outputs": [
        {
          "output_type": "stream",
          "name": "stdout",
          "text": [
            "5 earliest registered users: bennyzen, aalmiray, pvillega, tarsius, amaunz\n"
          ]
        }
      ]
    },
    {
      "cell_type": "code",
      "source": [
        "# Q-3\n",
        "licenses = repos_df[\"license_name\"].dropna()\n",
        "top_3_licenses = licenses.value_counts().head(3).index.tolist()\n",
        "print(\"Top 3 licenses:\", \", \".join(top_3_licenses))\n"
      ],
      "metadata": {
        "colab": {
          "base_uri": "https://localhost:8080/"
        },
        "id": "y6O46tORgS2o",
        "outputId": "c41ba72b-d06e-4c29-f847-283ce707c9aa"
      },
      "execution_count": 5,
      "outputs": [
        {
          "output_type": "stream",
          "name": "stdout",
          "text": [
            "Top 3 licenses: mit, apache-2.0, other\n"
          ]
        }
      ]
    },
    {
      "cell_type": "code",
      "source": [
        "# Q-4\n",
        "\n",
        "# Filter out empty company entries\n",
        "filtered_users = users_df[users_df[\"company\"].notna() & (users_df[\"company\"] != \"\")]\n",
        "\n",
        "# Count occurrences of each company\n",
        "company_counts = filtered_users[\"company\"].value_counts()\n",
        "\n",
        "# Find the most common company\n",
        "top_company = company_counts.idxmax()\n",
        "print(\"Company with the majority of developers:\", top_company)\n"
      ],
      "metadata": {
        "colab": {
          "base_uri": "https://localhost:8080/"
        },
        "id": "P7G7y6mWgyWr",
        "outputId": "c74bbbf2-b4e7-433f-d68d-5ad6aebeaca2"
      },
      "execution_count": 6,
      "outputs": [
        {
          "output_type": "stream",
          "name": "stdout",
          "text": [
            "Company with the majority of developers: UNIVERSITY OF BASEL\n"
          ]
        }
      ]
    },
    {
      "cell_type": "code",
      "source": [
        "# Q-5\n",
        "# Filter out entries with missing or empty language fields\n",
        "filtered_repos = repos_df[repos_df[\"language\"].notna() & (repos_df[\"language\"] != \"\")]\n",
        "\n",
        "# Count occurrences of each language\n",
        "language_counts = filtered_repos[\"language\"].value_counts()\n",
        "\n",
        "# Find the most common language\n",
        "top_language = language_counts.idxmax()\n",
        "print(\"Most popular programming language:\", top_language)"
      ],
      "metadata": {
        "colab": {
          "base_uri": "https://localhost:8080/"
        },
        "id": "3FY4kDhYhDOa",
        "outputId": "5bff8f14-fcfa-4fb7-b6af-074d3c88d91c"
      },
      "execution_count": 7,
      "outputs": [
        {
          "output_type": "stream",
          "name": "stdout",
          "text": [
            "Most popular programming language: JavaScript\n"
          ]
        }
      ]
    },
    {
      "cell_type": "code",
      "source": [
        "# Q-6\n",
        "recent_users = users_df[users_df[\"created_at\"] > \"2020-12-31\"]\n",
        "\n",
        "# Get the logins of users who joined after 2020\n",
        "recent_user_logins = recent_users[\"login\"].tolist()\n",
        "\n",
        "# Filter repositories for those created by recent users\n",
        "recent_user_repos = repos_df[repos_df[\"login\"].isin(recent_user_logins)]\n",
        "\n",
        "# Filter out entries with missing or empty language fields\n",
        "recent_user_repos = recent_user_repos[recent_user_repos[\"language\"].notna() & (recent_user_repos[\"language\"] != \"\")]\n",
        "\n",
        "# Count occurrences of each language\n",
        "language_counts = recent_user_repos[\"language\"].value_counts()\n",
        "\n",
        "# Get the second most common language\n",
        "second_most_popular_language = language_counts.index[1]\n",
        "print(\"Second most popular programming language among users who joined after 2020:\", second_most_popular_language)\n"
      ],
      "metadata": {
        "colab": {
          "base_uri": "https://localhost:8080/"
        },
        "id": "Aekzet-khSZx",
        "outputId": "20f7b029-73a3-4a3d-87ad-6149f793fef0"
      },
      "execution_count": 8,
      "outputs": [
        {
          "output_type": "stream",
          "name": "stdout",
          "text": [
            "Second most popular programming language among users who joined after 2020: HTML\n"
          ]
        }
      ]
    },
    {
      "cell_type": "code",
      "source": [
        "# Q-7\n",
        "\n",
        "# Filter out entries with missing or empty language fields\n",
        "repos_df = repos_df[repos_df[\"language\"].notna() & (repos_df[\"language\"] != \"\")]\n",
        "\n",
        "# Group by language and calculate the average stargazers_count for each language\n",
        "average_stars_per_language = repos_df.groupby(\"language\")[\"stargazers_count\"].mean()\n",
        "\n",
        "# Find the language with the highest average stars\n",
        "highest_avg_star_language = average_stars_per_language.idxmax()\n",
        "highest_avg_star_count = average_stars_per_language.max()\n",
        "\n",
        "print(\"Language with the highest average number of stars per repository:\", highest_avg_star_language)\n",
        "print(\"Average number of stars:\", highest_avg_star_count)\n"
      ],
      "metadata": {
        "colab": {
          "base_uri": "https://localhost:8080/"
        },
        "id": "TMSt1kxxhjA6",
        "outputId": "0c6f0dac-1eef-4c40-f516-75e5a19ccc4d"
      },
      "execution_count": 9,
      "outputs": [
        {
          "output_type": "stream",
          "name": "stdout",
          "text": [
            "Language with the highest average number of stars per repository: PureScript\n",
            "Average number of stars: 114.0\n"
          ]
        }
      ]
    },
    {
      "cell_type": "code",
      "source": [
        "# Q-8\n",
        "\n",
        "# Calculate leader_strength\n",
        "users_df['leader_strength'] = users_df['followers'] / (1 + users_df['following'])\n",
        "\n",
        "# Sort by leader_strength in descending order and select the top 5 users\n",
        "top_leader_strength_users = users_df.sort_values(by='leader_strength', ascending=False).head(5)\n",
        "\n",
        "# Get the 'login' values of the top 5 users as a comma-separated string\n",
        "top_5_logins = \", \".join(top_leader_strength_users['login'])\n",
        "\n",
        "print(\"Top 5 users in terms of leader_strength:\", top_5_logins)\n"
      ],
      "metadata": {
        "colab": {
          "base_uri": "https://localhost:8080/"
        },
        "id": "UCv9CRH9hw8R",
        "outputId": "1ed9d53d-1ed7-4c5d-c43d-1c854284767c"
      },
      "execution_count": 10,
      "outputs": [
        {
          "output_type": "stream",
          "name": "stdout",
          "text": [
            "Top 5 users in terms of leader_strength: dpryan79, wasserth, ravage84, elanmart, quadbiolab\n"
          ]
        }
      ]
    },
    {
      "cell_type": "code",
      "source": [
        "# Q-9\n",
        "# Calculate the correlation between followers and public_repos\n",
        "correlation = users_df['followers'].corr(users_df['public_repos'])\n",
        "\n",
        "# Print the correlation rounded to 3 decimal places\n",
        "print(f\"Correlation between followers and public repositories: {correlation:.3f}\")\n"
      ],
      "metadata": {
        "colab": {
          "base_uri": "https://localhost:8080/"
        },
        "id": "-0NqIn4oiBoT",
        "outputId": "b43f083e-e681-4f66-e755-f3d3dc203d5e"
      },
      "execution_count": 11,
      "outputs": [
        {
          "output_type": "stream",
          "name": "stdout",
          "text": [
            "Correlation between followers and public repositories: 0.345\n"
          ]
        }
      ]
    },
    {
      "cell_type": "code",
      "source": [
        "# Q-10\n",
        "from sklearn.linear_model import LinearRegression\n",
        "\n",
        "\n",
        "\n",
        "# Reshape the data for sklearn\n",
        "X = users_df['public_repos'].values.reshape(-1, 1)\n",
        "y = users_df['followers'].values\n",
        "\n",
        "# Create and fit the linear regression model\n",
        "model = LinearRegression()\n",
        "model.fit(X, y)\n",
        "\n",
        "# Get the slope (coefficient) which indicates additional followers per additional public repository\n",
        "slope = model.coef_[0]\n",
        "\n",
        "# Print the slope rounded to 3 decimal places\n",
        "print(f\"Regression slope of followers on repos: {slope:.3f}\")\n"
      ],
      "metadata": {
        "colab": {
          "base_uri": "https://localhost:8080/"
        },
        "id": "q2PEarsgiEXV",
        "outputId": "551a1590-c4b5-401f-aa4c-bc21eedd8920"
      },
      "execution_count": 12,
      "outputs": [
        {
          "output_type": "stream",
          "name": "stdout",
          "text": [
            "Regression slope of followers on repos: 0.674\n"
          ]
        }
      ]
    },
    {
      "cell_type": "code",
      "source": [
        "# Q-11\n",
        "if repos_df['has_projects'].dtype == 'object':\n",
        "    repos_df['has_projects'] = repos_df['has_projects'].map({'true': True, 'false': False})\n",
        "if repos_df['has_wiki'].dtype == 'object':\n",
        "    repos_df['has_wiki'] = repos_df['has_wiki'].map({'true': True, 'false': False})\n",
        "\n",
        "correlation = repos_df['has_projects'].corr(repos_df['has_wiki'])\n",
        "\n",
        "print(round(correlation, 3))\n"
      ],
      "metadata": {
        "id": "G-5XIAZqic4h",
        "outputId": "8bc36560-f575-440e-9d6f-09007f399cfc",
        "colab": {
          "base_uri": "https://localhost:8080/"
        }
      },
      "execution_count": 13,
      "outputs": [
        {
          "output_type": "stream",
          "name": "stdout",
          "text": [
            "0.308\n"
          ]
        }
      ]
    },
    {
      "cell_type": "code",
      "source": [
        "# Q12\n",
        "\n",
        "\n",
        "# Convert the hireable column to boolean values (True for 'true', False for 'false')\n",
        "users_df['hireable'] = users_df['hireable'].apply(lambda x: True if x == 'true' else False)\n",
        "\n",
        "# Calculate the average number of people followed by hireable users\n",
        "avg_following_hireable = users_df[users_df['hireable'] == True]['following'].mean()\n",
        "\n",
        "# Calculate the average number of people followed by non-hireable users\n",
        "avg_following_non_hireable = users_df[users_df['hireable'] == False]['following'].mean()\n",
        "\n",
        "# Calculate the difference\n",
        "difference = avg_following_hireable - avg_following_non_hireable\n",
        "\n",
        "# Print the result, rounded to 3 decimal places\n",
        "print(f\"Average following difference (hireable - non-hireable): {difference:.3f}\")\n"
      ],
      "metadata": {
        "colab": {
          "base_uri": "https://localhost:8080/"
        },
        "id": "H6ciM6i11B8G",
        "outputId": "9c245202-0bbc-46c5-d9bf-b61cb9207da3"
      },
      "execution_count": 14,
      "outputs": [
        {
          "output_type": "stream",
          "name": "stdout",
          "text": [
            "Average following difference (hireable - non-hireable): nan\n"
          ]
        }
      ]
    },
    {
      "cell_type": "code",
      "source": [
        "# Q13\n",
        "from sklearn.linear_model import LinearRegression\n",
        "users_with_bio = users_df[(users_df['bio'].notna()) & (users_df['bio'] != '')].copy()\n",
        "users_with_bio.loc[:, 'bio_len'] = users_with_bio['bio'].str.len()\n",
        "\n",
        "X = users_with_bio['bio_len'].values.reshape(-1,1)\n",
        "y = users_with_bio['followers']\n",
        "\n",
        "lr2 = LinearRegression()\n",
        "lr2.fit(X, y)\n",
        "lr2.coef_[0]"
      ],
      "metadata": {
        "colab": {
          "base_uri": "https://localhost:8080/"
        },
        "id": "3p8gk-aixiDf",
        "outputId": "c1dcc82b-38f1-41dc-b4d2-e33957b9b5b2"
      },
      "execution_count": 15,
      "outputs": [
        {
          "output_type": "execute_result",
          "data": {
            "text/plain": [
              "0.3778362964269829"
            ]
          },
          "metadata": {},
          "execution_count": 15
        }
      ]
    },
    {
      "cell_type": "code",
      "source": [
        "# Q-14\n",
        "import csv\n",
        "from collections import Counter\n",
        "from datetime import datetime\n",
        "\n",
        "weekend_repo_counts = Counter()\n",
        "\n",
        "with open('/content/drive/MyDrive/TDS project1/repositories.csv', 'r', encoding='utf-8') as file:\n",
        "    reader = csv.DictReader(file)\n",
        "\n",
        "    for row in reader:\n",
        "        created_at = row.get('created_at', '')\n",
        "        if created_at:\n",
        "            created_date = datetime.fromisoformat(created_at[:-1])\n",
        "\n",
        "            if created_date.weekday() in [5, 6]:\n",
        "                user_login = row['login']\n",
        "                weekend_repo_counts[user_login] += 1\n",
        "\n",
        "top_users = weekend_repo_counts.most_common(5)\n",
        "\n",
        "top_logins = [user[0] for user in top_users]\n",
        "\n",
        "print(','.join(top_logins))"
      ],
      "metadata": {
        "colab": {
          "base_uri": "https://localhost:8080/"
        },
        "id": "xfvicHerycPH",
        "outputId": "ff7c10ca-1189-48a1-ef37-f1faf608419c"
      },
      "execution_count": 18,
      "outputs": [
        {
          "output_type": "stream",
          "name": "stdout",
          "text": [
            "dpryan79,syzer,ioolkos,maysam,pvillega\n"
          ]
        }
      ]
    },
    {
      "cell_type": "code",
      "source": [
        "# Q-15\n",
        "fraction_hierable = users_df[users_df['hireable'] == True]['email'].notna().mean()\n",
        "fraction_non_hierable = users_df[users_df['hireable'] == False]['email'].notna().mean()\n",
        "diff = fraction_hierable - fraction_non_hierable\n",
        "diff"
      ],
      "metadata": {
        "colab": {
          "base_uri": "https://localhost:8080/"
        },
        "id": "UdSvRT7gypHO",
        "outputId": "d0535e77-4482-4b2a-8aae-b52008c0da82"
      },
      "execution_count": 17,
      "outputs": [
        {
          "output_type": "execute_result",
          "data": {
            "text/plain": [
              "nan"
            ]
          },
          "metadata": {},
          "execution_count": 17
        }
      ]
    },
    {
      "cell_type": "code",
      "source": [
        "# Q-16\n",
        "new_users = users_df[users_df['name'].notna()].copy()\n",
        "new_users['surname'] = new_users['name'].str.split().str[-1].str.strip()\n",
        "surname_counts = new_users['surname'].value_counts()\n",
        "max_count = surname_counts.max()\n",
        "common_surnames = surname_counts[surname_counts == max_count].index.tolist()\n",
        "common_surnames.sort()\n",
        "print(','.join(common_surnames))"
      ],
      "metadata": {
        "colab": {
          "base_uri": "https://localhost:8080/"
        },
        "id": "fkPGAJH7y926",
        "outputId": "bb345df9-aeb0-4efb-e7b8-e5a2003404e3"
      },
      "execution_count": 19,
      "outputs": [
        {
          "output_type": "stream",
          "name": "stdout",
          "text": [
            "Arnold,Brand,Christensen,Fink,GmbH,Group,Guggisberg,Landolt,Roth,Tan\n"
          ]
        }
      ]
    }
  ]
}